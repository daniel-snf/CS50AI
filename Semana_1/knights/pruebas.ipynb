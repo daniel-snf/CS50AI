{
 "cells": [
  {
   "cell_type": "code",
   "execution_count": 2,
   "metadata": {},
   "outputs": [
    {
     "name": "stdout",
     "output_type": "stream",
     "text": [
      "((A is a Knight) => ((A is a Knight) ∧ (A is a Knave))) ∧ ((A is a Knave) => (¬((A is a Knight) ∧ (A is a Knave))))\n"
     ]
    }
   ],
   "source": [
    "from logic import *\n",
    "AKnight = Symbol(\"A is a Knight\")\n",
    "AKnave = Symbol(\"A is a Knave\")\n",
    "\n",
    "BKnight = Symbol(\"B is a Knight\")\n",
    "BKnave = Symbol(\"B is a Knave\")\n",
    "\n",
    "CKnight = Symbol(\"C is a Knight\")\n",
    "CKnave = Symbol(\"C is a Knave\")\n",
    "\n",
    "k0 = And(\n",
    "    Implication(AKnight, And(AKnight, AKnave)),\n",
    "    Implication(AKnave, Not(And(AKnight, AKnave)))\n",
    ")\n",
    "\n",
    "print(k0.formula())"
   ]
  },
  {
   "cell_type": "code",
   "execution_count": 10,
   "metadata": {},
   "outputs": [
    {
     "name": "stdout",
     "output_type": "stream",
     "text": [
      "(B is a Knave) => (((A is a Knight) => (¬(A is a Knave))) ∨  ((A is a Knave) => (¬(A is a Knave))))\n"
     ]
    }
   ],
   "source": [
    "k=       Implication(BKnave,\n",
    "                # Donde A puede ser el caballero o el bribon\n",
    "                Or(Implication(AKnight, Not(AKnave)), Implication(AKnave, AKnave))),\n",
    "print(k.formula())"
   ]
  }
 ],
 "metadata": {
  "kernelspec": {
   "display_name": "Python 3",
   "language": "python",
   "name": "python3"
  },
  "language_info": {
   "codemirror_mode": {
    "name": "ipython",
    "version": 3
   },
   "file_extension": ".py",
   "mimetype": "text/x-python",
   "name": "python",
   "nbconvert_exporter": "python",
   "pygments_lexer": "ipython3",
   "version": "3.11.4"
  }
 },
 "nbformat": 4,
 "nbformat_minor": 2
}
