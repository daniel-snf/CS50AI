{
 "cells": [
  {
   "cell_type": "markdown",
   "metadata": {},
   "source": [
    "# pruebas"
   ]
  },
  {
   "cell_type": "markdown",
   "metadata": {},
   "source": [
    "# primera"
   ]
  },
  {
   "cell_type": "code",
   "execution_count": 14,
   "metadata": {},
   "outputs": [
    {
     "data": {
      "text/plain": [
       "'O'"
      ]
     },
     "execution_count": 14,
     "metadata": {},
     "output_type": "execute_result"
    }
   ],
   "source": [
    "\"\"\"\n",
    "Tic Tac Toe Player\n",
    "\"\"\"\n",
    "\n",
    "import math\n",
    "import copy # para \"deep copy\"\n",
    "\n",
    "X = \"X\"\n",
    "O = \"O\"              \n",
    "EMPTY = None\n",
    "\n",
    "\n",
    "def initial_state():\n",
    "    \"\"\"\n",
    "    Returns starting state of the board.\n",
    "    \"\"\"\n",
    "    return [[X, EMPTY, EMPTY],\n",
    "            [EMPTY, EMPTY, EMPTY],\n",
    "            [EMPTY, EMPTY, EMPTY]]\n",
    "\n",
    "\n",
    "board = initial_state()\n",
    "\n",
    "\n",
    "def player(board):\n",
    "    \"\"\"\n",
    "    Returns player who has the next turn on a board.\n",
    "    \"\"\"\n",
    "    # Contadores del turno de cada jugador (variables)\n",
    "    contador_x = 0\n",
    "    contador_o = 0\n",
    "    # recorrido en el tablero para llevar conteo de los turnos de cada jugador\n",
    "    for fila in range(len(board)):\n",
    "        for celda in range(len(board[fila])):\n",
    "            if board[fila][celda] == X:\n",
    "                contador_x += 1\n",
    "            elif board[fila][celda] == O:\n",
    "                contador_o += 1\n",
    "    # se decide el turno del jugador\n",
    "    # usando la especificación del ejercicio:\n",
    "         # In the initial game state, X gets the first move. Subsequently, the player alternates with each additional move. \n",
    "    if contador_x == contador_o:\n",
    "        return X\n",
    "    elif contador_x > contador_o:\n",
    "        return O\n",
    "    \n",
    "player(board)"
   ]
  },
  {
   "cell_type": "markdown",
   "metadata": {},
   "source": [
    "# segunda"
   ]
  },
  {
   "cell_type": "code",
   "execution_count": 15,
   "metadata": {},
   "outputs": [
    {
     "data": {
      "text/plain": [
       "{(0, 1), (0, 2), (1, 0), (1, 1), (1, 2), (2, 0), (2, 1), (2, 2)}"
      ]
     },
     "execution_count": 15,
     "metadata": {},
     "output_type": "execute_result"
    }
   ],
   "source": [
    "\"\"\"\n",
    "Tic Tac Toe Player\n",
    "\"\"\"\n",
    "\n",
    "import math\n",
    "import copy # para \"deep copy\"\n",
    "\n",
    "X = \"X\"\n",
    "O = \"O\"              \n",
    "EMPTY = None\n",
    "\n",
    "\n",
    "def initial_state():\n",
    "    \"\"\"\n",
    "    Returns starting state of the board.\n",
    "    \"\"\"\n",
    "    return [[X, EMPTY, EMPTY],\n",
    "            [EMPTY, EMPTY, EMPTY],\n",
    "            [EMPTY, EMPTY, EMPTY]]\n",
    "\n",
    "board = initial_state()\n",
    "\n",
    "def actions(board):\n",
    "    \"\"\"\n",
    "    Returns set of all possible actions (i, j) available on the board.\n",
    "    \"\"\"\n",
    "    # Este caso es como la inversa del bucle anterior buscamos los valores EMPTY\n",
    "    \n",
    "    # Primero el conjunto de las acciones\n",
    "    posibles_movimientos = set()\n",
    "\n",
    "    for fila in range(len(board)):\n",
    "        for celda in range(len(board[0])):\n",
    "            if board[fila][celda] == EMPTY:\n",
    "                posibles_movimientos.add((fila, celda))\n",
    "\n",
    "    return posibles_movimientos\n",
    "\n",
    "actions(board)"
   ]
  },
  {
   "cell_type": "markdown",
   "metadata": {},
   "source": [
    "# tercera"
   ]
  },
  {
   "cell_type": "code",
   "execution_count": 16,
   "metadata": {},
   "outputs": [
    {
     "data": {
      "text/plain": [
       "[['X', None, 'O'], [None, None, None], [None, None, None]]"
      ]
     },
     "execution_count": 16,
     "metadata": {},
     "output_type": "execute_result"
    }
   ],
   "source": [
    "\"\"\"\n",
    "Tic Tac Toe Player\n",
    "\"\"\"\n",
    "\n",
    "import math\n",
    "import copy # para \"deep copy\"\n",
    "\n",
    "X = \"X\"\n",
    "O = \"O\"              \n",
    "EMPTY = None\n",
    "\n",
    "\n",
    "def initial_state():\n",
    "    \"\"\"\n",
    "    Returns starting state of the board.\n",
    "    \"\"\"\n",
    "    return [[X, EMPTY, EMPTY],\n",
    "            [EMPTY, EMPTY, EMPTY],\n",
    "            [EMPTY, EMPTY, EMPTY]]\n",
    "\n",
    "\n",
    "board = initial_state()\n",
    "action = (0, 2)\n",
    "\n",
    "def result(board, action):\n",
    "    \"\"\"\n",
    "    Returns the board that results from making move (i, j) on the board.\n",
    "    \"\"\"\n",
    "    # Debemos validar que la acción de los jugadores son validas.\n",
    "\n",
    "    if action not in actions(board):\n",
    "        raise NameError(\"¡Epa!, ¡mosca hay pues!, esta acción no esta permitida rey\")\n",
    "    else:\n",
    "        fila , celda = action\n",
    "        copia_tablero = copy.deepcopy(board)        \n",
    "        copia_tablero[fila][celda] = player(board)\n",
    "        return copia_tablero\n",
    "    \n",
    "\n",
    "result(board, action)"
   ]
  },
  {
   "cell_type": "markdown",
   "metadata": {},
   "source": [
    "# cuarta"
   ]
  },
  {
   "cell_type": "code",
   "execution_count": 35,
   "metadata": {},
   "outputs": [
    {
     "data": {
      "text/plain": [
       "'X'"
      ]
     },
     "execution_count": 35,
     "metadata": {},
     "output_type": "execute_result"
    }
   ],
   "source": [
    "\"\"\"\n",
    "Tic Tac Toe Player\n",
    "\"\"\"\n",
    "\n",
    "import math\n",
    "import copy # para \"deep copy\"\n",
    "\n",
    "X = \"X\"\n",
    "O = \"O\"              \n",
    "EMPTY = None\n",
    "\n",
    "\n",
    "def initial_state():\n",
    "    \"\"\"\n",
    "    Returns starting state of the board.\n",
    "    \"\"\"\n",
    "    return [[EMPTY, EMPTY, X],\n",
    "            [EMPTY, X, EMPTY],\n",
    "            [X, EMPTY, EMPTY]]\n",
    "\n",
    "board = initial_state()\n",
    "\n",
    "\n",
    "\n",
    "def winner(board):\n",
    "    \"\"\"\n",
    "    Returns the winner of the game, if there is one.\n",
    "    \"\"\"\n",
    "    if False:\n",
    "        return None\n",
    "    else:\n",
    "        for jugador in (X,O):\n",
    "            # los resultados ganadores pueden darse horizontalemente verticalmente o en sus diagonales\n",
    "            for fila in range(len(board)):\n",
    "                    if board[fila][0] ==jugador and board[fila][1] ==jugador and board[fila][2] ==jugador:\n",
    "                        return jugador\n",
    "                    \n",
    "            for celda in range(len(board)):\n",
    "                    if board[0][celda] == jugador and board[1][celda] == jugador and board[2][celda] == jugador:\n",
    "                        return jugador\n",
    "                    \n",
    "            if board[0][0] == jugador and board[1][1] == jugador  and board[2][2] == jugador:\n",
    "                    return jugador\n",
    "            \n",
    "            if board[0][2] == jugador and board[1][1] == jugador  and board[2][0] == jugador:\n",
    "                    return jugador\n",
    "winner(board)"
   ]
  },
  {
   "cell_type": "markdown",
   "metadata": {},
   "source": [
    "# quinta\n"
   ]
  },
  {
   "cell_type": "code",
   "execution_count": 18,
   "metadata": {},
   "outputs": [
    {
     "data": {
      "text/plain": [
       "False"
      ]
     },
     "execution_count": 18,
     "metadata": {},
     "output_type": "execute_result"
    }
   ],
   "source": [
    "\"\"\"\n",
    "Tic Tac Toe Player\n",
    "\"\"\"\n",
    "\n",
    "import math\n",
    "import copy # para \"deep copy\"\n",
    "\n",
    "X = \"X\"\n",
    "O = \"O\"              \n",
    "EMPTY = None\n",
    "\n",
    "\n",
    "def initial_state():\n",
    "    \"\"\"\n",
    "    Returns starting state of the board.\n",
    "    \"\"\"\n",
    "    return [[EMPTY, EMPTY, X],\n",
    "            [EMPTY, X, EMPTY],\n",
    "            [O, EMPTY, EMPTY]]\n",
    "\n",
    "board = initial_state()\n",
    "\n",
    "def terminal(board):\n",
    "    \"\"\"\n",
    "    Returns True if game is over, False otherwise.\n",
    "    \"\"\"\n",
    "    if winner(board) == X: \n",
    "        return True\n",
    "    if winner(board) == O:\n",
    "        return True\n",
    "    for fila in range(len(board)):\n",
    "        for celda in range(len(board[fila])):\n",
    "            if board[fila][celda] == EMPTY:\n",
    "                return False    # dado que si hay todavia celdas \"EMPTY\" no es empate, el juego aún no termina.\n",
    "    return True # si se pasa el bucle foor es un empate, lo que hace que este terminado\n",
    "\n",
    "terminal(board)\n"
   ]
  },
  {
   "cell_type": "markdown",
   "metadata": {},
   "source": [
    "# sexta"
   ]
  },
  {
   "cell_type": "code",
   "execution_count": 19,
   "metadata": {},
   "outputs": [
    {
     "data": {
      "text/plain": [
       "0"
      ]
     },
     "execution_count": 19,
     "metadata": {},
     "output_type": "execute_result"
    }
   ],
   "source": [
    "\"\"\"\n",
    "Tic Tac Toe Player\n",
    "\"\"\"\n",
    "\n",
    "import math\n",
    "import copy # para \"deep copy\"\n",
    "\n",
    "X = \"X\"\n",
    "O = \"O\"              \n",
    "EMPTY = None\n",
    "\n",
    "\n",
    "def initial_state():\n",
    "    \"\"\"\n",
    "    Returns starting state of the board.\n",
    "    \"\"\"\n",
    "    return [[EMPTY, EMPTY, X],\n",
    "            [EMPTY, X, EMPTY],\n",
    "            [O, EMPTY, EMPTY]]\n",
    "\n",
    "board = initial_state()\n",
    "\n",
    "def utility(board):\n",
    "    \"\"\"\n",
    "    Returns 1 if X has won the game, -1 if O has won, 0 otherwise.\n",
    "    \"\"\"\n",
    "    # bastante directa la instrucción de que hacer acá\n",
    "    if winner(board) == X:\n",
    "        return 1\n",
    "    elif winner(board) == O:\n",
    "        return -1\n",
    "    else:\n",
    "        return 0\n",
    "\n",
    "utility(board)\n"
   ]
  },
  {
   "cell_type": "markdown",
   "metadata": {},
   "source": [
    "# septima"
   ]
  },
  {
   "cell_type": "code",
   "execution_count": 33,
   "metadata": {},
   "outputs": [
    {
     "data": {
      "text/plain": [
       "(0, 0)"
      ]
     },
     "execution_count": 33,
     "metadata": {},
     "output_type": "execute_result"
    }
   ],
   "source": [
    "\"\"\"\n",
    "Tic Tac Toe Player\n",
    "\"\"\"\n",
    "\n",
    "import math\n",
    "import copy # para \"deep copy\"\n",
    "\n",
    "X = \"X\"\n",
    "O = \"O\"              \n",
    "EMPTY = None\n",
    "\n",
    "\n",
    "def initial_state():\n",
    "    \"\"\"\n",
    "    Returns starting state of the board.\n",
    "    \"\"\"\n",
    "    return [[EMPTY, EMPTY, X],\n",
    "            [EMPTY, X, EMPTY],\n",
    "            [O, EMPTY, EMPTY]]\n",
    "\n",
    "board = initial_state()\n",
    "\n",
    "def minimax(board):\n",
    "    \"\"\"\n",
    "    Returns the optimal action for the current player on the board.\n",
    "    \"\"\"\n",
    "    # guiado del pseudocodigo de las notas de la lección y del libro\n",
    "\n",
    "    def max_valor(board):\n",
    "        mov_optimo = ()\n",
    "        if terminal(board):\n",
    "            return utility(board), mov_optimo\n",
    "        else:\n",
    "            v = -math.inf # de import math\n",
    "            for accion in actions(board):\n",
    "                valor_min = min_valor(result(board, accion))[0]\n",
    "                if valor_min > v:\n",
    "                    v = valor_min\n",
    "                    mov_optimo = accion\n",
    "            return v, mov_optimo\n",
    "        \n",
    "    def min_valor(board):\n",
    "        mov_optimo = ()\n",
    "        if terminal(board):\n",
    "            return utility(board), mov_optimo\n",
    "        else:\n",
    "            v = math.inf\n",
    "            for accion in actions(board):\n",
    "                valor_max = max_valor(result(board, accion))[0]\n",
    "                if valor_max < v:\n",
    "                    v = valor_max\n",
    "                    mov_optimo = accion\n",
    "            return v, mov_optimo\n",
    "        \n",
    "    jugador = player(board)\n",
    "\n",
    "    if terminal(board):\n",
    "        return None\n",
    "    \n",
    "    if jugador == X:\n",
    "        return max_valor(board)[1]\n",
    "    else:\n",
    "        return min_valor(board)[1]\n",
    "    \n",
    "minimax(board)"
   ]
  }
 ],
 "metadata": {
  "kernelspec": {
   "display_name": "Python 3",
   "language": "python",
   "name": "python3"
  },
  "language_info": {
   "codemirror_mode": {
    "name": "ipython",
    "version": 3
   },
   "file_extension": ".py",
   "mimetype": "text/x-python",
   "name": "python",
   "nbconvert_exporter": "python",
   "pygments_lexer": "ipython3",
   "version": "3.11.4"
  }
 },
 "nbformat": 4,
 "nbformat_minor": 2
}
