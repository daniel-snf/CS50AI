{
 "cells": [
  {
   "cell_type": "markdown",
   "metadata": {},
   "source": [
    "# Funciones/Clases de util\n",
    "\n",
    "Algunas notas/pruebas que me ayudan a entender mejor el codigo."
   ]
  },
  {
   "cell_type": "code",
   "execution_count": null,
   "metadata": {},
   "outputs": [],
   "source": [
    "class Node(): # Clase\n",
    "    def __init__(self, state, parent, action): # función que crea el objeto\n",
    "        self.state = state                      # que depende de estos tres parametros\n",
    "        self.parent = parent\n",
    "        self.action = action\n",
    "\n",
    "# ultimo en entrar primero en salir DFS\n",
    "class StackFrontier():\n",
    "    def __init__(self):  # creación de la frontera como una lista\n",
    "        self.frontier = []\n",
    "\n",
    "    def add(self, node):    # añadir a la frontera nodos\n",
    "        self.frontier.append(node)  # con esta linea\n",
    "\n",
    "    def contains_state(self, state):\n",
    "        return any(node.state == state for node in self.frontier)   # Verifica si el nodo definido \n",
    "                                                                        # en torono a su estado esta en la frontera\n",
    "    def empty(self):\n",
    "        return len(self.frontier) == 0  # verifica si la frontera esta vacia\n",
    "\n",
    "    def remove(self):\n",
    "        if self.empty():\n",
    "            raise Exception(\"empty frontier\") # si esta vacia pues lo dice! jaja\n",
    "        else:\n",
    "            node = self.frontier[-1]    # selecciona el ultimo y lo remueve\n",
    "            self.frontier = self.frontier[:-1]  # reescribe la frontera\n",
    "            return node                         # retorna el nodo\n",
    "\n",
    "# para BFS primero en entrar primero en salir (la clase)\n",
    "class QueueFrontier(StackFrontier): # esta heredando mierdas de la clase anterior (por eso no hay __init__)\n",
    "\n",
    "    def remove(self):\n",
    "        if self.empty():\n",
    "            raise Exception(\"empty frontier\")\n",
    "        else:\n",
    "            node = self.frontier[0] # saca el primero\n",
    "            self.frontier = self.frontier[1:] # redefine la vaina\n",
    "            return node # devuelve el nodo\n"
   ]
  },
  {
   "cell_type": "code",
   "execution_count": 4,
   "metadata": {},
   "outputs": [
    {
     "name": "stdout",
     "output_type": "stream",
     "text": [
      "{'d': 13, 'f': 43}\n",
      "{'d': 13, 'f': 43, 'r': 314}\n"
     ]
    }
   ],
   "source": [
    "a = {\"d\": 13, \"f\" : 43}\n",
    "print(a)\n",
    "\n",
    "a[ \"r\" ] = 314\n",
    "print(a)\n"
   ]
  }
 ],
 "metadata": {
  "kernelspec": {
   "display_name": "Python 3",
   "language": "python",
   "name": "python3"
  },
  "language_info": {
   "codemirror_mode": {
    "name": "ipython",
    "version": 3
   },
   "file_extension": ".py",
   "mimetype": "text/x-python",
   "name": "python",
   "nbconvert_exporter": "python",
   "pygments_lexer": "ipython3",
   "version": "3.11.4"
  }
 },
 "nbformat": 4,
 "nbformat_minor": 2
}
